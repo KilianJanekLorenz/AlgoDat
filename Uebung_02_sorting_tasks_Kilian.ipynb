{
 "cells": [
  {
   "cell_type": "markdown",
   "id": "524566c7",
   "metadata": {},
   "source": [
    "### Übung 1"
   ]
  },
  {
   "cell_type": "markdown",
   "id": "704d819d",
   "metadata": {},
   "source": [
    "In der Vorlesung hatten wir gesehen, dass der Insertion-Sort Algorithmus eine Laufzeit-Komplexität von $\\theta (n^2)$ aufweist. Leiten Sie dies her. Nehmen Sie dazu den schlechtesten Fall an ('worst case time complexity'). Sie können dabei annehmen, dass die Arbeit für einen Tausch (swap) und einen Vergleich (comparisson) jeweils $\n",
    "**[5 points]**\n",
    "\n",
    "Tipp: Erinnern Sie sich an die \"Geschichte des schlauen Mathematikers\", der die Zahlen geschickt aufaddierte:\n",
    "$$ \\sum_{q=1}^p = \\frac{p \\cdot (p+1)}{2} $$\n",
    "\n",
    "\n",
    "Anmerkung: Sie können die Herleitung in der Markdown Zelle hier machen, oder auf einem Zettel und diesen einscannen."
   ]
  },
  {
   "cell_type": "markdown",
   "id": "5b6abff1",
   "metadata": {},
   "source": [
    "### Zur Übung 1:\n",
    "Herleitung \"worst case time complexity\". n × (n - 1) × ½\n",
    "Wenn wir dies ausmultiplizieren, erhalten wir:\n",
    "½ n² - ½ n\n",
    "Auch wenn wir nur halb so viele Operationen haben wie im durchschnittlichen Fall, ändert sich an der Zeitkomplexität nichts – der Term enthält immer noch ein n², und somit gilt:\n",
    "Die Zeitkomplexität von Insertion Sort beträgt im worst case: O(n²)\n",
    "Quelle:https://www.happycoders.eu/de/algorithmen/insertion-sort/\n",
    "Swap:\n",
    "Comparission:\n",
    "\n",
    "\n",
    "Chat GPT: Der Insertion-Sort-Algorithmus hat im Allgemeinen eine Laufzeitkomplexität von O(n^2). Dies bedeutet, dass die Anzahl der Schritte, die der Algorithmus ausführt, proportional zur Quadratwurzel der Größe der Eingabe ist.\n",
    "Fall 1: Wenn der Algorithmus eine Swap-Operation ausführt, um die Elemente zu sortieren, dann hängt die Anzahl der Operationen direkt von der Anzahl der Elemente ab. Wenn der Algorithmus beispielsweise n Elemente sortiert, müssen im schlimmsten Fall n-1 Swaps durchgeführt werden. In der durchschnittlichen Ausführung des Algorithmus werden etwa n^2/4 Swaps durchgeführt, da jeder Schritt im Durchschnitt mit einem anderen Element verglichen wird. Daher hat der Algorithmus im schlimmsten Fall eine Laufzeitkomplexität von O(n^2) und im Durchschnitt eine Laufzeitkomplexität von O(n^2).\n",
    "Fall 2: Wenn der Algorithmus nur Vergleiche durchführt, um die Elemente zu sortieren, hat jeder Schritt eine konstante Laufzeit. Im schlimmsten Fall müssen jedoch n^2/2 Vergleiche durchgeführt werden, da der Algorithmus jedes Element mit jedem anderen Element vergleichen muss. Daher hat der Algorithmus im schlimmsten Fall eine Laufzeitkomplexität von O(n^2).\n",
    "In beiden Fällen hat der Insertion-Sort-Algorithmus eine Laufzeitkomplexität von O(n^2), was ihn zu einem vergleichsweise langsamen Sortieralgorithmus macht."
   ]
  },
  {
   "cell_type": "markdown",
   "id": "5f8a4d87",
   "metadata": {},
   "source": [
    "### Übung 2"
   ]
  },
  {
   "cell_type": "markdown",
   "id": "633c623b",
   "metadata": {},
   "source": [
    "a) Schreiben Sie eine Python implementierung eines Insertion-Sort Algoritmus.   \n",
    "**[4 points]**\n",
    "\n",
    "Hinweis: Copy-paste einer Internt-Vorlage zählt nicht."
   ]
  },
  {
   "cell_type": "code",
   "execution_count": 1,
   "id": "201b273d",
   "metadata": {},
   "outputs": [
    {
     "name": "stdout",
     "output_type": "stream",
     "text": [
      "Algorithm is correct: False\n"
     ]
    }
   ],
   "source": [
    "def insertion_sort_algorithm(array: list) -> list:\n",
    "\n",
    "    if(len(array) < 1):\n",
    "        raise ValueError(\"Provided array must be 1d array of a length greater then 1.\")\n",
    "    for i in array:\n",
    "        if(isinstance(i, int) == False):\n",
    "            raise ValueError(\"Provided array must be 1d array of type int.\")\n",
    "        \n",
    "    work_array = array.copy()\n",
    "            \n",
    "    \n",
    "# aktuell noch zu sehr an Kopierter Lösung orientiert:\n",
    "\n",
    "\n",
    "    for i in range(1, len(work_array)):\n",
    "        swap_el = work_array[i]\n",
    "        compare_el = work_array[-1]\n",
    "        j = i - 1\n",
    "        while j >= 0 and swap_el < work_array[j]:\n",
    "            work_array[j+1] = work_array[j]\n",
    "            j -= 1\n",
    "        work_array[j+1] = swap_el\n",
    "    return(work_array)\n",
    "\n",
    "\n",
    "\n",
    "\n",
    "my_array = [4,5,6,1]\n",
    "return_array = insertion_sort_algorithm(my_array)\n",
    "\n",
    "print(f\"Algorithm is correct: {my_array.sort() == return_array}\")\n",
    "\n"
   ]
  },
  {
   "cell_type": "markdown",
   "id": "0d99736d",
   "metadata": {},
   "source": [
    "Weiter ist hier ist eine Implementierung eines Merge-Sort Algorithmus. Sie benötigen sie für Aufgabe 3."
   ]
  },
  {
   "cell_type": "code",
   "execution_count": 2,
   "id": "99304737",
   "metadata": {},
   "outputs": [
    {
     "name": "stdout",
     "output_type": "stream",
     "text": [
      "Sorted array is: \n",
      "1 5 6 9 10 12 \n"
     ]
    }
   ],
   "source": [
    "def merge_sort(array):\n",
    "    if len(array) > 1:\n",
    "        #  r is the point where the array is divided into two subarrays\n",
    "        r = len(array)//2\n",
    "        L = array[:r]\n",
    "        M = array[r:]\n",
    "\n",
    "        # Sort the two halves\n",
    "        merge_sort(L)\n",
    "        merge_sort(M)\n",
    "\n",
    "        i = j = k = 0\n",
    "\n",
    "        # Until we reach either end of either L or M, pick larger among\n",
    "        # elements L and M and place them in the correct position at A[p..r]\n",
    "        while i < len(L) and j < len(M):\n",
    "            if L[i] < M[j]:\n",
    "                array[k] = L[i]\n",
    "                i += 1\n",
    "            else:\n",
    "                array[k] = M[j]\n",
    "                j += 1\n",
    "            k += 1\n",
    "\n",
    "        # When we run out of elements in either L or M,\n",
    "        # pick up the remaining elements and put in A[p..r]\n",
    "        while i < len(L):\n",
    "            array[k] = L[i]\n",
    "            i += 1\n",
    "            k += 1\n",
    "\n",
    "        while j < len(M):\n",
    "            array[k] = M[j]\n",
    "            j += 1\n",
    "            k += 1\n",
    "\n",
    "        \n",
    "# Print the array\n",
    "def print_list(array):\n",
    "    for i in range(len(array)):\n",
    "        print(array[i], end=\" \")\n",
    "    print()\n",
    "\n",
    "\n",
    "# Driver program\n",
    "if __name__ == '__main__':\n",
    "    array = [6, 5, 12, 10, 9, 1]\n",
    "\n",
    "    merge_sort(array)\n",
    "\n",
    "    print(\"Sorted array is: \")\n",
    "    print_list(array)"
   ]
  },
  {
   "cell_type": "markdown",
   "id": "be0c12c2",
   "metadata": {},
   "source": [
    "### Übung 3"
   ]
  },
  {
   "cell_type": "markdown",
   "id": "09fef090",
   "metadata": {},
   "source": [
    "a) Messen Sie die Laufzeiten für beide Algorihmen (Insertion- and Merge-Sort) aus Übung 2 für die Arrays\n",
    "- list(range(100,1,-1))\n",
    "- list(range(1000,1,-1))\n",
    "- list(range(5000,1,-1))\n",
    "- list(range(10000,1,-1))\n",
    "- list(range(25000,1,-1))\n",
    "\n",
    "**[5 points]**\n",
    "\n",
    "Tipp: Um die Laufzeiten Ihrer Algorithmen zu bestimmen, können Sie das timeit oder das time Modul nutzen. Eine \"average-Laufzeit\" Bestimmung ist nicht nötig, sprich ein Durchgang genügt jeweils. Lasten Sie den PC jedoch während der Rechnungen nicht andersweitig aus (z.B. durch andere Programme), um das Ergebnis nicht zu verfälschen."
   ]
  },
  {
   "cell_type": "code",
   "execution_count": 3,
   "id": "0f05fef3",
   "metadata": {},
   "outputs": [
    {
     "name": "stdout",
     "output_type": "stream",
     "text": [
      "Runtime with array of range 100: {'merge': 2.7525, 'insertion': 0.086} milliseconds.\n",
      "Runtime with array of range 1000: {'merge': 8.7497, 'insertion': 0.4586} milliseconds.\n",
      "Runtime with array of range 5000: {'merge': 24.2717, 'insertion': 2.1862} milliseconds.\n",
      "Runtime with array of range 10000: {'merge': 37.2411, 'insertion': 2.6422} milliseconds.\n",
      "Runtime with array of range 15000: {'merge': 41.82, 'insertion': 3.4801} milliseconds.\n"
     ]
    }
   ],
   "source": [
    "import timeit\n",
    "times = {}\n",
    "\n",
    "upper_list = [100, 1000, 5000, 10000, 15000]\n",
    "for i in range(len(upper_list)):\n",
    "    array = list(range(upper_list[i], 1, -1))\n",
    "\n",
    "    time_merge = timeit.timeit(lambda: merge_sort(array), number=1)\n",
    "    time_insortion = timeit.timeit(lambda: insertion_sort_algorithm(array), number=1)\n",
    "    times[upper_list[i]] = {\"merge\": round(time_merge * 1000, 4), \"insertion\": round(time_insortion * 1000, 4)}\n",
    "for key, value in times.items():\n",
    "    print(f\"Runtime with array of range {key}: {value} milliseconds.\")\n",
    "\n"
   ]
  },
  {
   "cell_type": "code",
   "execution_count": 26,
   "id": "29096259",
   "metadata": {},
   "outputs": [
    {
     "name": "stdout",
     "output_type": "stream",
     "text": [
      "{100: {'merge': 2.7525, 'insertion': 0.086}, 1000: {'merge': 8.7497, 'insertion': 0.4586}, 5000: {'merge': 24.2717, 'insertion': 2.1862}, 10000: {'merge': 37.2411, 'insertion': 2.6422}, 15000: {'merge': 41.82, 'insertion': 3.4801}}\n"
     ]
    }
   ],
   "source": [
    "print(times)"
   ]
  },
  {
   "cell_type": "markdown",
   "id": "882ee9a2",
   "metadata": {},
   "source": [
    "b) Plotten Sie die Ergebnisse für Laufzeiten gegen die Inputgröße aus Übung 2 für beide Algorithmen in einem Plot.   \n",
    "**[4 points]**\n",
    "\n",
    "Tipp: Sie können die Matplotlib \"scatter\" Methode verwenden."
   ]
  },
  {
   "cell_type": "code",
   "execution_count": 59,
   "id": "f1488dfd",
   "metadata": {},
   "outputs": [
    {
     "data": {
      "image/png": "[encoded data removed]",
      "text/plain": [
       "<Figure size 432x288 with 1 Axes>"
      ]
     },
     "metadata": {
      "needs_background": "light"
     },
     "output_type": "display_data"
    }
   ],
   "source": [
    "import matplotlib.pyplot as plt\n",
    "\n",
    "\n",
    "y_values =  list(times.keys())\n",
    "y_values_a = []\n",
    "for key, value in times.items():\n",
    "    y_values_a.append(value['merge'])\n",
    "    \n",
    "y_values_b = []\n",
    "for key, value in times.items():\n",
    "    y_values_b.append(value['insertion'])\n",
    "    \n",
    "plt.scatter(x_values, y_values_a)\n",
    "plt.scatter(x_values, y_values_b)\n",
    "\n",
    "plt.xlabel(\"Range\")\n",
    "plt.ylabel(\"Merge/Insertion\")\n",
    "plt.title(\"Plot Merge (blue) and Insertion (orange) Algorithmus\")\n",
    "\n",
    "# Zeige den Plot an\n",
    "plt.show()\n",
    "\n"
   ]
  },
  {
   "cell_type": "code",
   "execution_count": null,
   "id": "1502da8f",
   "metadata": {},
   "outputs": [],
   "source": []
  }
 ],
 "metadata": {
  "kernelspec": {
   "display_name": "Python 3 (ipykernel)",
   "language": "python",
   "name": "python3"
  },
  "language_info": {
   "codemirror_mode": {
    "name": "ipython",
    "version": 3
   },
   "file_extension": ".py",
   "mimetype": "text/x-python",
   "name": "python",
   "nbconvert_exporter": "python",
   "pygments_lexer": "ipython3",
   "version": "3.9.12"
  }
 },
 "nbformat": 4,
 "nbformat_minor": 5
}
